{
  "cells": [
    {
      "cell_type": "markdown",
      "metadata": {
        "id": "view-in-github",
        "colab_type": "text"
      },
      "source": [
        "<a href=\"https://colab.research.google.com/github/Bangkit-Capstone-C241-BB01/BlurOrBokeh_ML_All/blob/main/End_to_End_Deep_Learning_Approach.ipynb\" target=\"_parent\"><img src=\"https://colab.research.google.com/assets/colab-badge.svg\" alt=\"Open In Colab\"/></a>"
      ]
    },
    {
      "cell_type": "markdown",
      "metadata": {
        "id": "2kpJit-xJkk1"
      },
      "source": [
        "# End-to-End Deep Learning"
      ]
    },
    {
      "cell_type": "markdown",
      "metadata": {
        "id": "--TFj7VFLvS4"
      },
      "source": [
        "## Setup"
      ]
    },
    {
      "cell_type": "code",
      "execution_count": null,
      "metadata": {
        "colab": {
          "base_uri": "https://localhost:8080/"
        },
        "id": "otE_YSU0PbpU",
        "outputId": "587095d6-7bd9-4908-9270-3957580e36cc"
      },
      "outputs": [
        {
          "output_type": "stream",
          "name": "stdout",
          "text": [
            "Mounted at /content/drive\n"
          ]
        }
      ],
      "source": [
        "import os\n",
        "import sys\n",
        "import PIL\n",
        "import numpy as np\n",
        "import tensorflow as tf\n",
        "import tensorflow_hub as hub\n",
        "import matplotlib.pyplot as plt\n",
        "from google.colab import drive\n",
        "from sklearn.metrics import confusion_matrix\n",
        "from tensorflow.keras.preprocessing.image import ImageDataGenerator\n",
        "from tensorflow.keras.layers import Input, Conv2D, MaxPool2D, Flatten, Dropout, Concatenate, Dense\n",
        "from tensorflow.keras.optimizers import RMSprop\n",
        "from tensorflow.keras.models import Model\n",
        "\n",
        "PIL.Image.MAX_IMAGE_PIXELS = None\n",
        "\n",
        "drive.mount(\"/content/drive\")"
      ]
    },
    {
      "cell_type": "code",
      "execution_count": null,
      "metadata": {
        "id": "lqQA9bbXw4c-"
      },
      "outputs": [],
      "source": [
        "base_dir = \"/content/drive/My Drive/Blur or Bokeh\"\n",
        "\n",
        "data_dir = os.path.join(base_dir, \"DatasetV4\")\n",
        "serialized_data_dir = os.path.join(base_dir, \"Serialized Data\")\n",
        "library_dir = os.path.join(base_dir, \"Library\")\n",
        "\n",
        "sys.path.append(library_dir)\n",
        "from utils import FeatureExtractor\n",
        "from cf_matrix import make_confusion_matrix"
      ]
    },
    {
      "cell_type": "markdown",
      "metadata": {
        "id": "R9_SFk5YNGxF"
      },
      "source": [
        "## Load the Pre-trained Model"
      ]
    },
    {
      "cell_type": "code",
      "execution_count": null,
      "metadata": {
        "id": "h946AIPL8gWo"
      },
      "outputs": [],
      "source": [
        "module_handle = \"https://tfhub.dev/google/openimages_v4/ssd/mobilenet_v2/1\"\n",
        "model = hub.load(module_handle)\n",
        "model.signatures.keys()\n",
        "detector = model.signatures[\"default\"]"
      ]
    },
    {
      "cell_type": "markdown",
      "metadata": {
        "id": "eY8-B2IBL-e4"
      },
      "source": [
        "## Load the Dataset"
      ]
    },
    {
      "cell_type": "code",
      "execution_count": null,
      "metadata": {
        "id": "Paq0EpAw4Tl7"
      },
      "outputs": [],
      "source": [
        "image_size = (300, 300)\n",
        "class_names = [\"Blur\", \"Bokeh\", \"Normal\"]\n",
        "\n",
        "train_dir = os.path.join(data_dir, \"train\")\n",
        "validation_dir = os.path.join(data_dir, \"val\")\n",
        "test_dir = os.path.join(data_dir, \"test\")"
      ]
    },
    {
      "cell_type": "code",
      "execution_count": null,
      "metadata": {
        "colab": {
          "base_uri": "https://localhost:8080/"
        },
        "id": "WOG16--GSK_D",
        "outputId": "2daec3fc-f5c5-412e-a863-84a87dcc6755"
      },
      "outputs": [
        {
          "output_type": "stream",
          "name": "stdout",
          "text": [
            "Found 1771 images belonging to 3 classes.\n",
            "Found 328 images belonging to 3 classes.\n",
            "Found 114 images belonging to 3 classes.\n"
          ]
        }
      ],
      "source": [
        "train_datagen = ImageDataGenerator(\n",
        "    rescale=1./255,\n",
        "    rotation_range=40,\n",
        "    width_shift_range=0.2,\n",
        "    height_shift_range=0.2,\n",
        "    shear_range=0.2,\n",
        "    zoom_range=0.2,\n",
        "    horizontal_flip=True,\n",
        "    fill_mode=\"nearest\"\n",
        ")\n",
        "train_generator = train_datagen.flow_from_directory(\n",
        "    train_dir,\n",
        "    target_size=image_size,\n",
        "    batch_size=2000,\n",
        "    class_mode=\"sparse\"\n",
        ")\n",
        "\n",
        "validation_datagen = ImageDataGenerator(rescale=1./255)\n",
        "validation_generator = train_datagen.flow_from_directory(\n",
        "    validation_dir,\n",
        "    target_size=image_size,\n",
        "    batch_size=2000,\n",
        "    class_mode=\"sparse\"\n",
        ")\n",
        "\n",
        "test_datagen = ImageDataGenerator(rescale=1./255)\n",
        "test_generator = test_datagen.flow_from_directory(\n",
        "    test_dir,\n",
        "    target_size=image_size,\n",
        "    batch_size=2000,\n",
        "    class_mode=\"sparse\"\n",
        ")"
      ]
    },
    {
      "cell_type": "code",
      "execution_count": null,
      "metadata": {
        "id": "IH6V9ZcgHTGm"
      },
      "outputs": [],
      "source": [
        "run_extractor = True\n",
        "\n",
        "if run_extractor:\n",
        "    feature_extractor = FeatureExtractor(detector, image_denormalization=True)\n",
        "\n",
        "    X_train, y_train = next(train_generator)\n",
        "    X_train_pre = feature_extractor(X_train)\n",
        "    X_val, y_val = next(validation_generator)\n",
        "    X_val_pre = feature_extractor(X_val)\n",
        "    X_test, y_test = next(test_generator)\n",
        "    X_test_pre = feature_extractor(X_test)\n",
        "\n",
        "    np.save(os.path.join(serialized_data_dir, \"X_train.npy\"), X_train)\n",
        "    np.save(os.path.join(serialized_data_dir, \"y_train.npy\"), y_train)\n",
        "    np.save(os.path.join(serialized_data_dir, \"X_val.npy\"),   X_val)\n",
        "    np.save(os.path.join(serialized_data_dir, \"y_val.npy\"),   y_val)\n",
        "    np.save(os.path.join(serialized_data_dir, \"X_test.npy\"),  X_test)\n",
        "    np.save(os.path.join(serialized_data_dir, \"y_test.npy\"),  y_test)\n",
        "    np.save(os.path.join(serialized_data_dir, \"X_train_pre.npy\"), X_train_pre.numpy())\n",
        "    np.save(os.path.join(serialized_data_dir, \"X_val_pre.npy\"),   X_val_pre.numpy())\n",
        "    np.save(os.path.join(serialized_data_dir, \"X_test_pre.npy\"),  X_test_pre.numpy())\n",
        "\n",
        "else:\n",
        "    X_train = tf.convert_to_tensor(np.load(os.path.join(serialized_data_dir, \"X_train.npy\")))\n",
        "    y_train = tf.convert_to_tensor(np.load(os.path.join(serialized_data_dir, \"y_train.npy\")))\n",
        "    X_val = tf.convert_to_tensor(np.load(os.path.join(serialized_data_dir, \"X_val.npy\")))\n",
        "    y_val = tf.convert_to_tensor(np.load(os.path.join(serialized_data_dir, \"y_val.npy\")))\n",
        "    X_test = tf.convert_to_tensor(np.load(os.path.join(serialized_data_dir, \"X_test.npy\")))\n",
        "    y_test = tf.convert_to_tensor(np.load(os.path.join(serialized_data_dir, \"y_test.npy\")))\n",
        "    X_train_pre = tf.convert_to_tensor(np.load(os.path.join(serialized_data_dir, \"X_train_pre.npy\")))\n",
        "    X_val_pre = tf.convert_to_tensor(np.load(os.path.join(serialized_data_dir, \"X_val_pre.npy\")))\n",
        "    X_test_pre = tf.convert_to_tensor(np.load(os.path.join(serialized_data_dir, \"X_test_pre.npy\")))"
      ]
    },
    {
      "cell_type": "markdown",
      "metadata": {
        "id": "O2bCXqv5NaDc"
      },
      "source": [
        "## Build the Model"
      ]
    },
    {
      "cell_type": "code",
      "execution_count": null,
      "metadata": {
        "colab": {
          "base_uri": "https://localhost:8080/"
        },
        "id": "dwCaRMVW4Dij",
        "outputId": "68cb0319-cba6-418b-cfb8-a44eedf65b11"
      },
      "outputs": [
        {
          "output_type": "stream",
          "name": "stdout",
          "text": [
            "Model: \"model\"\n",
            "__________________________________________________________________________________________________\n",
            " Layer (type)                Output Shape                 Param #   Connected to                  \n",
            "==================================================================================================\n",
            " input_2 (InputLayer)        [(None, 300, 300, 3)]        0         []                            \n",
            "                                                                                                  \n",
            " conv2d (Conv2D)             (None, 296, 296, 32)         2432      ['input_2[0][0]']             \n",
            "                                                                                                  \n",
            " max_pooling2d (MaxPooling2  (None, 148, 148, 32)         0         ['conv2d[0][0]']              \n",
            " D)                                                                                               \n",
            "                                                                                                  \n",
            " conv2d_1 (Conv2D)           (None, 146, 146, 64)         18496     ['max_pooling2d[0][0]']       \n",
            "                                                                                                  \n",
            " max_pooling2d_1 (MaxPoolin  (None, 73, 73, 64)           0         ['conv2d_1[0][0]']            \n",
            " g2D)                                                                                             \n",
            "                                                                                                  \n",
            " conv2d_2 (Conv2D)           (None, 71, 71, 64)           36928     ['max_pooling2d_1[0][0]']     \n",
            "                                                                                                  \n",
            " max_pooling2d_2 (MaxPoolin  (None, 35, 35, 64)           0         ['conv2d_2[0][0]']            \n",
            " g2D)                                                                                             \n",
            "                                                                                                  \n",
            " conv2d_3 (Conv2D)           (None, 33, 33, 64)           36928     ['max_pooling2d_2[0][0]']     \n",
            "                                                                                                  \n",
            " max_pooling2d_3 (MaxPoolin  (None, 16, 16, 64)           0         ['conv2d_3[0][0]']            \n",
            " g2D)                                                                                             \n",
            "                                                                                                  \n",
            " input_1 (InputLayer)        [(None, 2)]                  0         []                            \n",
            "                                                                                                  \n",
            " conv2d_4 (Conv2D)           (None, 14, 14, 64)           36928     ['max_pooling2d_3[0][0]']     \n",
            "                                                                                                  \n",
            " dense (Dense)               (None, 32)                   96        ['input_1[0][0]']             \n",
            "                                                                                                  \n",
            " max_pooling2d_4 (MaxPoolin  (None, 7, 7, 64)             0         ['conv2d_4[0][0]']            \n",
            " g2D)                                                                                             \n",
            "                                                                                                  \n",
            " dense_1 (Dense)             (None, 64)                   2112      ['dense[0][0]']               \n",
            "                                                                                                  \n",
            " flatten (Flatten)           (None, 3136)                 0         ['max_pooling2d_4[0][0]']     \n",
            "                                                                                                  \n",
            " dense_2 (Dense)             (None, 128)                  8320      ['dense_1[0][0]']             \n",
            "                                                                                                  \n",
            " dense_3 (Dense)             (None, 128)                  401536    ['flatten[0][0]']             \n",
            "                                                                                                  \n",
            " concatenate (Concatenate)   (None, 256)                  0         ['dense_2[0][0]',             \n",
            "                                                                     'dense_3[0][0]']             \n",
            "                                                                                                  \n",
            " dense_4 (Dense)             (None, 3)                    771       ['concatenate[0][0]']         \n",
            "                                                                                                  \n",
            "==================================================================================================\n",
            "Total params: 544547 (2.08 MB)\n",
            "Trainable params: 544547 (2.08 MB)\n",
            "Non-trainable params: 0 (0.00 Byte)\n",
            "__________________________________________________________________________________________________\n"
          ]
        }
      ],
      "source": [
        "input_layer_1 = Input(shape=[2])\n",
        "input_layer_2 = Input(shape=(image_size + (3,)))\n",
        "\n",
        "hidden_layer_1 = Dense(32, activation=\"relu\")(input_layer_1)\n",
        "hidden_layer_1 = Dense(64, activation=\"relu\")(hidden_layer_1)\n",
        "hidden_layer_1 = Dense(128, activation=\"relu\")(hidden_layer_1)\n",
        "\n",
        "conv_layer = Conv2D(32, 5, activation=\"relu\")(input_layer_2)\n",
        "pool_layer = MaxPool2D(2, 2)(conv_layer)\n",
        "conv_layer = Conv2D(64, 3, activation=\"relu\")(pool_layer)\n",
        "pool_layer = MaxPool2D(2, 2)(conv_layer)\n",
        "conv_layer = Conv2D(64, 3, activation=\"relu\")(pool_layer)\n",
        "pool_layer = MaxPool2D(2, 2)(conv_layer)\n",
        "conv_layer = Conv2D(64, 3, activation=\"relu\")(pool_layer)\n",
        "pool_layer = MaxPool2D(2, 2)(conv_layer)\n",
        "conv_layer = Conv2D(64, 3, activation=\"relu\")(pool_layer)\n",
        "pool_layer = MaxPool2D(2, 2)(conv_layer)\n",
        "flatten_layer = Flatten()(pool_layer)\n",
        "# flatten_layer = Dropout(0.2)(flatten_layer)\n",
        "hidden_layer_2 = Dense(128, activation=\"relu\")(flatten_layer)\n",
        "\n",
        "concat_layer = Concatenate()([hidden_layer_1, hidden_layer_2])\n",
        "output_layer = Dense(3, activation=\"softmax\")(concat_layer)\n",
        "\n",
        "model = Model(inputs=[input_layer_1, input_layer_2], outputs=output_layer)\n",
        "\n",
        "model.compile(loss=\"sparse_categorical_crossentropy\", optimizer=RMSprop(learning_rate=1e-5), metrics=[\"accuracy\"])\n",
        "model.summary()"
      ]
    },
    {
      "cell_type": "markdown",
      "metadata": {
        "id": "RsDFPPkjNwzL"
      },
      "source": [
        "## Train, Evaluate, and Save the Model"
      ]
    },
    {
      "cell_type": "code",
      "execution_count": null,
      "metadata": {
        "colab": {
          "base_uri": "https://localhost:8080/"
        },
        "id": "9YPNJ-dRVjY6",
        "outputId": "311c512b-e574-43cc-a264-8b5183e31431"
      },
      "outputs": [
        {
          "output_type": "stream",
          "name": "stdout",
          "text": [
            "Epoch 1/50\n",
            "56/56 [==============================] - 7s 97ms/step - loss: 1.0996 - accuracy: 0.2891 - val_loss: 1.0973 - val_accuracy: 0.2957\n",
            "Epoch 2/50\n",
            "56/56 [==============================] - 5s 88ms/step - loss: 1.0958 - accuracy: 0.3676 - val_loss: 1.0948 - val_accuracy: 0.4329\n",
            "Epoch 3/50\n",
            "56/56 [==============================] - 5s 86ms/step - loss: 1.0937 - accuracy: 0.4082 - val_loss: 1.0930 - val_accuracy: 0.4085\n",
            "Epoch 4/50\n",
            "56/56 [==============================] - 5s 92ms/step - loss: 1.0927 - accuracy: 0.4116 - val_loss: 1.0914 - val_accuracy: 0.4085\n",
            "Epoch 5/50\n",
            "56/56 [==============================] - 5s 88ms/step - loss: 1.0910 - accuracy: 0.4088 - val_loss: 1.0902 - val_accuracy: 0.4085\n",
            "Epoch 6/50\n",
            "56/56 [==============================] - 5s 91ms/step - loss: 1.0896 - accuracy: 0.4088 - val_loss: 1.0890 - val_accuracy: 0.4085\n",
            "Epoch 7/50\n",
            "56/56 [==============================] - 5s 97ms/step - loss: 1.0887 - accuracy: 0.4082 - val_loss: 1.0879 - val_accuracy: 0.4085\n",
            "Epoch 8/50\n",
            "56/56 [==============================] - 5s 92ms/step - loss: 1.0872 - accuracy: 0.4082 - val_loss: 1.0873 - val_accuracy: 0.4085\n",
            "Epoch 9/50\n",
            "56/56 [==============================] - 5s 92ms/step - loss: 1.0867 - accuracy: 0.4077 - val_loss: 1.0861 - val_accuracy: 0.4085\n",
            "Epoch 10/50\n",
            "56/56 [==============================] - 5s 94ms/step - loss: 1.0858 - accuracy: 0.4082 - val_loss: 1.0846 - val_accuracy: 0.4085\n",
            "Epoch 11/50\n",
            "56/56 [==============================] - 5s 86ms/step - loss: 1.0851 - accuracy: 0.4122 - val_loss: 1.0826 - val_accuracy: 0.4085\n",
            "Epoch 12/50\n",
            "56/56 [==============================] - 5s 89ms/step - loss: 1.0829 - accuracy: 0.4082 - val_loss: 1.0808 - val_accuracy: 0.4085\n",
            "Epoch 13/50\n",
            "56/56 [==============================] - 5s 93ms/step - loss: 1.0818 - accuracy: 0.4099 - val_loss: 1.0788 - val_accuracy: 0.4116\n",
            "Epoch 14/50\n",
            "56/56 [==============================] - 5s 86ms/step - loss: 1.0797 - accuracy: 0.4167 - val_loss: 1.0764 - val_accuracy: 0.4207\n",
            "Epoch 15/50\n",
            "56/56 [==============================] - 5s 95ms/step - loss: 1.0764 - accuracy: 0.4342 - val_loss: 1.0739 - val_accuracy: 0.4329\n",
            "Epoch 16/50\n",
            "56/56 [==============================] - 5s 90ms/step - loss: 1.0744 - accuracy: 0.4399 - val_loss: 1.0703 - val_accuracy: 0.4421\n",
            "Epoch 17/50\n",
            "56/56 [==============================] - 5s 92ms/step - loss: 1.0711 - accuracy: 0.4517 - val_loss: 1.0664 - val_accuracy: 0.4573\n",
            "Epoch 18/50\n",
            "56/56 [==============================] - 6s 101ms/step - loss: 1.0657 - accuracy: 0.4625 - val_loss: 1.0615 - val_accuracy: 0.4573\n",
            "Epoch 19/50\n",
            "56/56 [==============================] - 5s 87ms/step - loss: 1.0634 - accuracy: 0.4822 - val_loss: 1.0560 - val_accuracy: 0.4848\n",
            "Epoch 20/50\n",
            "56/56 [==============================] - 5s 92ms/step - loss: 1.0558 - accuracy: 0.4997 - val_loss: 1.0491 - val_accuracy: 0.5030\n",
            "Epoch 21/50\n",
            "56/56 [==============================] - 5s 93ms/step - loss: 1.0479 - accuracy: 0.5042 - val_loss: 1.0416 - val_accuracy: 0.5152\n",
            "Epoch 22/50\n",
            "56/56 [==============================] - 5s 87ms/step - loss: 1.0398 - accuracy: 0.5257 - val_loss: 1.0317 - val_accuracy: 0.5549\n",
            "Epoch 23/50\n",
            "56/56 [==============================] - 6s 100ms/step - loss: 1.0307 - accuracy: 0.5313 - val_loss: 1.0238 - val_accuracy: 0.5793\n",
            "Epoch 24/50\n",
            "56/56 [==============================] - 5s 91ms/step - loss: 1.0215 - accuracy: 0.5392 - val_loss: 1.0116 - val_accuracy: 0.5762\n",
            "Epoch 25/50\n",
            "56/56 [==============================] - 5s 92ms/step - loss: 1.0136 - accuracy: 0.5398 - val_loss: 1.0020 - val_accuracy: 0.5976\n",
            "Epoch 26/50\n",
            "56/56 [==============================] - 5s 93ms/step - loss: 1.0000 - accuracy: 0.5455 - val_loss: 0.9876 - val_accuracy: 0.5854\n",
            "Epoch 27/50\n",
            "56/56 [==============================] - 5s 88ms/step - loss: 0.9904 - accuracy: 0.5415 - val_loss: 0.9758 - val_accuracy: 0.5915\n",
            "Epoch 28/50\n",
            "56/56 [==============================] - 5s 86ms/step - loss: 0.9771 - accuracy: 0.5528 - val_loss: 0.9763 - val_accuracy: 0.5671\n",
            "Epoch 29/50\n",
            "56/56 [==============================] - 5s 95ms/step - loss: 0.9675 - accuracy: 0.5630 - val_loss: 0.9533 - val_accuracy: 0.5945\n",
            "Epoch 30/50\n",
            "56/56 [==============================] - 5s 93ms/step - loss: 0.9610 - accuracy: 0.5663 - val_loss: 0.9432 - val_accuracy: 0.5945\n",
            "Epoch 31/50\n",
            "56/56 [==============================] - 5s 92ms/step - loss: 0.9461 - accuracy: 0.5748 - val_loss: 0.9282 - val_accuracy: 0.6159\n",
            "Epoch 32/50\n",
            "56/56 [==============================] - 5s 94ms/step - loss: 0.9353 - accuracy: 0.5686 - val_loss: 0.9171 - val_accuracy: 0.6006\n",
            "Epoch 33/50\n",
            "56/56 [==============================] - 5s 87ms/step - loss: 0.9240 - accuracy: 0.5805 - val_loss: 0.9105 - val_accuracy: 0.6159\n",
            "Epoch 34/50\n",
            "56/56 [==============================] - 5s 91ms/step - loss: 0.9173 - accuracy: 0.5833 - val_loss: 0.9042 - val_accuracy: 0.6220\n",
            "Epoch 35/50\n",
            "56/56 [==============================] - 5s 91ms/step - loss: 0.9092 - accuracy: 0.5872 - val_loss: 0.8880 - val_accuracy: 0.6159\n",
            "Epoch 36/50\n",
            "56/56 [==============================] - 5s 87ms/step - loss: 0.8945 - accuracy: 0.5878 - val_loss: 0.8799 - val_accuracy: 0.6220\n",
            "Epoch 37/50\n",
            "56/56 [==============================] - 5s 96ms/step - loss: 0.8897 - accuracy: 0.5906 - val_loss: 0.8688 - val_accuracy: 0.6280\n",
            "Epoch 38/50\n",
            "56/56 [==============================] - 5s 95ms/step - loss: 0.8786 - accuracy: 0.6019 - val_loss: 0.8707 - val_accuracy: 0.6280\n",
            "Epoch 39/50\n",
            "56/56 [==============================] - 5s 86ms/step - loss: 0.8690 - accuracy: 0.6098 - val_loss: 0.8576 - val_accuracy: 0.6280\n",
            "Epoch 40/50\n",
            "56/56 [==============================] - 6s 100ms/step - loss: 0.8616 - accuracy: 0.6200 - val_loss: 0.8409 - val_accuracy: 0.6341\n",
            "Epoch 41/50\n",
            "56/56 [==============================] - 5s 92ms/step - loss: 0.8490 - accuracy: 0.6211 - val_loss: 0.8489 - val_accuracy: 0.6220\n",
            "Epoch 42/50\n",
            "56/56 [==============================] - 5s 93ms/step - loss: 0.8447 - accuracy: 0.6222 - val_loss: 0.8230 - val_accuracy: 0.6524\n",
            "Epoch 43/50\n",
            "56/56 [==============================] - 5s 91ms/step - loss: 0.8361 - accuracy: 0.6206 - val_loss: 0.8183 - val_accuracy: 0.6341\n",
            "Epoch 44/50\n",
            "56/56 [==============================] - 5s 87ms/step - loss: 0.8251 - accuracy: 0.6290 - val_loss: 0.8206 - val_accuracy: 0.6494\n",
            "Epoch 45/50\n",
            "56/56 [==============================] - 5s 96ms/step - loss: 0.8160 - accuracy: 0.6403 - val_loss: 0.7982 - val_accuracy: 0.6677\n",
            "Epoch 46/50\n",
            "56/56 [==============================] - 5s 90ms/step - loss: 0.8143 - accuracy: 0.6330 - val_loss: 0.8219 - val_accuracy: 0.6341\n",
            "Epoch 47/50\n",
            "56/56 [==============================] - 5s 86ms/step - loss: 0.8097 - accuracy: 0.6318 - val_loss: 0.7839 - val_accuracy: 0.6799\n",
            "Epoch 48/50\n",
            "56/56 [==============================] - 6s 100ms/step - loss: 0.7971 - accuracy: 0.6454 - val_loss: 0.7944 - val_accuracy: 0.6585\n",
            "Epoch 49/50\n",
            "56/56 [==============================] - 6s 99ms/step - loss: 0.7915 - accuracy: 0.6499 - val_loss: 0.7980 - val_accuracy: 0.6463\n",
            "Epoch 50/50\n",
            "56/56 [==============================] - 5s 87ms/step - loss: 0.7878 - accuracy: 0.6488 - val_loss: 0.7685 - val_accuracy: 0.6799\n"
          ]
        }
      ],
      "source": [
        "history = model.fit(\n",
        "    [X_train_pre, X_train],\n",
        "    y_train,\n",
        "    epochs=50,\n",
        "    batch_size=32,\n",
        "    validation_data=([X_val_pre, X_val], y_val),\n",
        ")"
      ]
    },
    {
      "cell_type": "code",
      "execution_count": null,
      "metadata": {
        "colab": {
          "base_uri": "https://localhost:8080/"
        },
        "id": "DCH3igbHNxva",
        "outputId": "194e0047-e368-4167-a7c4-1e77e6a4b75e"
      },
      "outputs": [
        {
          "output_type": "stream",
          "name": "stdout",
          "text": [
            "4/4 [==============================] - 0s 26ms/step - loss: 0.7432 - accuracy: 0.6579\n"
          ]
        },
        {
          "output_type": "execute_result",
          "data": {
            "text/plain": [
              "[0.7431973218917847, 0.6578947305679321]"
            ]
          },
          "metadata": {},
          "execution_count": 51
        }
      ],
      "source": [
        "model.evaluate([X_test_pre, X_test], y_test)"
      ]
    },
    {
      "cell_type": "code",
      "execution_count": null,
      "metadata": {
        "id": "8tMChIXcqKcW"
      },
      "outputs": [],
      "source": [
        "model_weights_filename = \"End-to-End Deep Learning Model.h5\"\n",
        "model.save_weights(os.path.join(serialized_data_dir, model_weights_filename))"
      ]
    },
    {
      "cell_type": "markdown",
      "metadata": {
        "id": "RbQBAYUeM_mF"
      },
      "source": [
        "## Confusion Matrix"
      ]
    },
    {
      "cell_type": "code",
      "execution_count": null,
      "metadata": {
        "colab": {
          "base_uri": "https://localhost:8080/",
          "height": 499
        },
        "id": "xb44Ln3mO9H8",
        "outputId": "7c551ac9-1062-407e-aedf-1fbec2dda71c"
      },
      "outputs": [
        {
          "output_type": "stream",
          "name": "stdout",
          "text": [
            "4/4 [==============================] - 0s 31ms/step\n"
          ]
        },
        {
          "output_type": "display_data",
          "data": {
            "text/plain": [
              "<Figure size 640x480 with 1 Axes>"
            ],
            "image/png": "[encoded data removed]"
          },
          "metadata": {}
        }
      ],
      "source": [
        "test_pred = model.predict([X_test_pre, X_test])\n",
        "test_pred = tf.argmax(test_pred, axis=1)\n",
        "cm = confusion_matrix(y_test, test_pred)\n",
        "make_confusion_matrix(cm, categories=class_names, cmap=\"Greens\", cbar=False)"
      ]
    },
    {
      "cell_type": "markdown",
      "metadata": {
        "id": "b7Tz1CMjr-1Z"
      },
      "source": [
        "## Load the Model"
      ]
    },
    {
      "cell_type": "code",
      "execution_count": null,
      "metadata": {
        "id": "yM5tzugD3Meo"
      },
      "outputs": [],
      "source": [
        "model.load_weights(os.path.join(serialized_data_dir, model_weights_filename))"
      ]
    },
    {
      "cell_type": "markdown",
      "source": [],
      "metadata": {
        "id": "hPRDcwmardSx"
      }
    }
  ],
  "metadata": {
    "accelerator": "GPU",
    "colab": {
      "gpuType": "T4",
      "provenance": [],
      "include_colab_link": true
    },
    "kernelspec": {
      "display_name": "Python 3",
      "name": "python3"
    },
    "language_info": {
      "name": "python"
    }
  },
  "nbformat": 4,
  "nbformat_minor": 0
}