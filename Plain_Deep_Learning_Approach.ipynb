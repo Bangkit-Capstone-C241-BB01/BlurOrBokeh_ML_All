{
  "nbformat": 4,
  "nbformat_minor": 0,
  "metadata": {
    "colab": {
      "provenance": [],
      "machine_shape": "hm",
      "gpuType": "T4",
      "include_colab_link": true
    },
    "kernelspec": {
      "name": "python3",
      "display_name": "Python 3"
    },
    "language_info": {
      "name": "python"
    },
    "accelerator": "GPU"
  },
  "cells": [
    {
      "cell_type": "markdown",
      "metadata": {
        "id": "view-in-github",
        "colab_type": "text"
      },
      "source": [
        "<a href=\"https://colab.research.google.com/github/Bangkit-Capstone-C241-BB01/BlurOrBokeh_ML_All/blob/main/Plain_Deep_Learning_Approach.ipynb\" target=\"_parent\"><img src=\"https://colab.research.google.com/assets/colab-badge.svg\" alt=\"Open In Colab\"/></a>"
      ]
    },
    {
      "cell_type": "code",
      "execution_count": null,
      "metadata": {
        "id": "Gwuw9PqMRc30",
        "colab": {
          "base_uri": "https://localhost:8080/"
        },
        "outputId": "aef2119a-406a-4d78-9f69-0b814fdb78d4"
      },
      "outputs": [
        {
          "output_type": "stream",
          "name": "stdout",
          "text": [
            "Mounted at /content/drive\n"
          ]
        }
      ],
      "source": [
        "import os\n",
        "import sys\n",
        "import PIL\n",
        "import numpy as np\n",
        "import tensorflow as tf\n",
        "import tensorflow_hub as hub\n",
        "import matplotlib.pyplot as plt\n",
        "from google.colab import drive\n",
        "from sklearn.metrics import confusion_matrix\n",
        "from tensorflow.keras.preprocessing.image import ImageDataGenerator\n",
        "from tensorflow.keras.layers import Layer, Input, Conv2D, MaxPool2D, Flatten, Concatenate, Dense, Dropout\n",
        "from tensorflow.keras.optimizers import RMSprop\n",
        "from tensorflow.keras.models import Sequential\n",
        "\n",
        "PIL.Image.MAX_IMAGE_PIXELS = None\n",
        "\n",
        "drive.mount(\"/content/drive\")"
      ]
    },
    {
      "cell_type": "code",
      "source": [
        "base_dir = \"/content/drive/My Drive/Blur or Bokeh\"\n",
        "\n",
        "data_dir = os.path.join(base_dir, \"DatasetV4\")\n",
        "\n",
        "train_dir = os.path.join(data_dir, \"train\")\n",
        "validation_dir = os.path.join(data_dir, \"val\")\n",
        "test_dir = os.path.join(data_dir, \"test\")\n",
        "\n",
        "# print('total training images:', len(os.listdir(train_dir)))\n",
        "# print('total validation images:', len(os.listdir(validation_dir)))\n",
        "# print('total test images:', len(os.listdir(test_dir)))"
      ],
      "metadata": {
        "id": "IQZCNoX3tFbH"
      },
      "execution_count": null,
      "outputs": []
    },
    {
      "cell_type": "code",
      "source": [
        "image_size = (300, 300)\n",
        "class_names = [\"Blur\", \"Bokeh\", \"Normal\"]"
      ],
      "metadata": {
        "id": "r92nhi0tu77w"
      },
      "execution_count": null,
      "outputs": []
    },
    {
      "cell_type": "code",
      "source": [
        "train_datagen = ImageDataGenerator(\n",
        "    rescale=1./255,\n",
        "    rotation_range=40,\n",
        "    width_shift_range=0.2,\n",
        "    height_shift_range=0.2,\n",
        "    shear_range=0.2,\n",
        "    zoom_range=0.2,\n",
        "    horizontal_flip=True,\n",
        "    fill_mode='nearest'\n",
        ")\n",
        "\n",
        "train_generator = train_datagen.flow_from_directory(\n",
        "    train_dir,\n",
        "    target_size=image_size,\n",
        "    batch_size=32,\n",
        "    class_mode=\"categorical\",\n",
        "    shuffle=True,\n",
        ")\n",
        "\n",
        "validation_datagen = ImageDataGenerator(\n",
        "    rescale=1./255,\n",
        "    rotation_range=40,\n",
        "    width_shift_range=0.2,\n",
        "    height_shift_range=0.2,\n",
        "    shear_range=0.2,\n",
        "    zoom_range=0.2,\n",
        "    horizontal_flip=True,\n",
        "    fill_mode='nearest'\n",
        ")\n",
        "\n",
        "validation_generator = train_datagen.flow_from_directory(\n",
        "    validation_dir,\n",
        "    target_size=image_size,\n",
        "    batch_size=32,\n",
        "    class_mode=\"categorical\",\n",
        "    shuffle=True,\n",
        ")\n",
        "\n",
        "test_datagen = ImageDataGenerator(\n",
        "    rescale=1./255,\n",
        "    rotation_range=40,\n",
        "    width_shift_range=0.2,\n",
        "    height_shift_range=0.2,\n",
        "    shear_range=0.2,\n",
        "    zoom_range=0.2,\n",
        "    horizontal_flip=True,\n",
        "    fill_mode='nearest'\n",
        ")\n",
        "\n",
        "test_generator = test_datagen.flow_from_directory(\n",
        "    test_dir,\n",
        "    target_size=image_size,\n",
        "    batch_size=32,\n",
        "    class_mode=\"categorical\",\n",
        "    shuffle=True,\n",
        ")"
      ],
      "metadata": {
        "colab": {
          "base_uri": "https://localhost:8080/"
        },
        "id": "Gdp1juy9t8Lw",
        "outputId": "9fc2e5d4-0738-48d1-d820-16ef217f2ad0"
      },
      "execution_count": null,
      "outputs": [
        {
          "output_type": "stream",
          "name": "stdout",
          "text": [
            "Found 1771 images belonging to 3 classes.\n",
            "Found 328 images belonging to 3 classes.\n",
            "Found 114 images belonging to 3 classes.\n"
          ]
        }
      ]
    },
    {
      "cell_type": "code",
      "source": [
        "from tensorflow.keras.layers import BatchNormalization\n",
        "\n",
        "model = Sequential([\n",
        "    Conv2D(32, (3, 3), activation='relu', input_shape=(300, 300, 3)),\n",
        "    MaxPool2D((2, 2)),\n",
        "\n",
        "    Conv2D(64, (3, 3), activation='relu'),\n",
        "    MaxPool2D((2, 2)),\n",
        "\n",
        "    Conv2D(128, (3, 3), activation='relu'),\n",
        "    MaxPool2D((2, 2)),\n",
        "\n",
        "    Flatten(),\n",
        "    Dense(512, activation='relu'),\n",
        "    Dropout(0.1),\n",
        "    BatchNormalization(),\n",
        "\n",
        "    Dense(3, activation='softmax')\n",
        "])\n"
      ],
      "metadata": {
        "id": "NEMeL8_AuzqU"
      },
      "execution_count": null,
      "outputs": []
    },
    {
      "cell_type": "code",
      "source": [
        "model.compile(optimizer='adam',\n",
        "              loss='categorical_crossentropy',\n",
        "              metrics=['accuracy'])"
      ],
      "metadata": {
        "id": "Q5lCmGy7y1Y7"
      },
      "execution_count": null,
      "outputs": []
    },
    {
      "cell_type": "code",
      "source": [
        "model.summary()"
      ],
      "metadata": {
        "colab": {
          "base_uri": "https://localhost:8080/"
        },
        "id": "QKwAsdQ-y4d1",
        "outputId": "43da1b82-2db1-4286-87cc-aa867248fac3"
      },
      "execution_count": null,
      "outputs": [
        {
          "output_type": "stream",
          "name": "stdout",
          "text": [
            "Model: \"sequential_10\"\n",
            "_________________________________________________________________\n",
            " Layer (type)                Output Shape              Param #   \n",
            "=================================================================\n",
            " conv2d_26 (Conv2D)          (None, 298, 298, 32)      896       \n",
            "                                                                 \n",
            " max_pooling2d_26 (MaxPooli  (None, 149, 149, 32)      0         \n",
            " ng2D)                                                           \n",
            "                                                                 \n",
            " conv2d_27 (Conv2D)          (None, 147, 147, 64)      18496     \n",
            "                                                                 \n",
            " max_pooling2d_27 (MaxPooli  (None, 73, 73, 64)        0         \n",
            " ng2D)                                                           \n",
            "                                                                 \n",
            " conv2d_28 (Conv2D)          (None, 71, 71, 128)       73856     \n",
            "                                                                 \n",
            " max_pooling2d_28 (MaxPooli  (None, 35, 35, 128)       0         \n",
            " ng2D)                                                           \n",
            "                                                                 \n",
            " flatten_10 (Flatten)        (None, 156800)            0         \n",
            "                                                                 \n",
            " dense_20 (Dense)            (None, 512)               80282112  \n",
            "                                                                 \n",
            " dropout_10 (Dropout)        (None, 512)               0         \n",
            "                                                                 \n",
            " batch_normalization_12 (Ba  (None, 512)               2048      \n",
            " tchNormalization)                                               \n",
            "                                                                 \n",
            " dense_21 (Dense)            (None, 3)                 1539      \n",
            "                                                                 \n",
            "=================================================================\n",
            "Total params: 80378947 (306.62 MB)\n",
            "Trainable params: 80377923 (306.62 MB)\n",
            "Non-trainable params: 1024 (4.00 KB)\n",
            "_________________________________________________________________\n"
          ]
        }
      ]
    },
    {
      "cell_type": "code",
      "source": [
        "epochs = 10\n",
        "\n",
        "history = model.fit(\n",
        "    train_generator,\n",
        "    steps_per_epoch=train_generator.samples // train_generator.batch_size,\n",
        "    validation_data=validation_generator,\n",
        "    validation_steps=validation_generator.samples // validation_generator.batch_size,\n",
        "    epochs=epochs\n",
        ")"
      ],
      "metadata": {
        "colab": {
          "base_uri": "https://localhost:8080/"
        },
        "id": "zcqwhtD-y7QO",
        "outputId": "98b7575b-7a95-4a8f-da73-46e39b14755e"
      },
      "execution_count": null,
      "outputs": [
        {
          "output_type": "stream",
          "name": "stdout",
          "text": [
            "Epoch 1/10\n",
            "55/55 [==============================] - 69s 1s/step - loss: 0.9922 - accuracy: 0.5561 - val_loss: 3.9473 - val_accuracy: 0.3000\n",
            "Epoch 2/10\n",
            "55/55 [==============================] - 64s 1s/step - loss: 0.8127 - accuracy: 0.6463 - val_loss: 3.1778 - val_accuracy: 0.3000\n",
            "Epoch 3/10\n",
            "55/55 [==============================] - 68s 1s/step - loss: 0.7391 - accuracy: 0.6826 - val_loss: 1.0670 - val_accuracy: 0.5156\n",
            "Epoch 4/10\n",
            "55/55 [==============================] - 68s 1s/step - loss: 0.7027 - accuracy: 0.7004 - val_loss: 0.7102 - val_accuracy: 0.6781\n",
            "Epoch 5/10\n",
            "55/55 [==============================] - 65s 1s/step - loss: 0.6575 - accuracy: 0.7240 - val_loss: 1.0791 - val_accuracy: 0.5719\n",
            "Epoch 6/10\n",
            "55/55 [==============================] - 68s 1s/step - loss: 0.6360 - accuracy: 0.7257 - val_loss: 0.5474 - val_accuracy: 0.7531\n",
            "Epoch 7/10\n",
            "55/55 [==============================] - 69s 1s/step - loss: 0.5768 - accuracy: 0.7631 - val_loss: 0.5904 - val_accuracy: 0.7219\n",
            "Epoch 8/10\n",
            "55/55 [==============================] - 69s 1s/step - loss: 0.5943 - accuracy: 0.7476 - val_loss: 0.5606 - val_accuracy: 0.7250\n",
            "Epoch 9/10\n",
            "55/55 [==============================] - 67s 1s/step - loss: 0.5734 - accuracy: 0.7545 - val_loss: 2.2194 - val_accuracy: 0.3313\n",
            "Epoch 10/10\n",
            "55/55 [==============================] - 68s 1s/step - loss: 0.5760 - accuracy: 0.7568 - val_loss: 0.5814 - val_accuracy: 0.7156\n"
          ]
        }
      ]
    },
    {
      "cell_type": "code",
      "source": [
        "test_loss, test_acc = model.evaluate(test_generator, steps=test_generator.samples // test_generator.batch_size)\n",
        "print(f\"Test Accuracy: {test_acc:.4f}\")"
      ],
      "metadata": {
        "colab": {
          "base_uri": "https://localhost:8080/"
        },
        "id": "aiJylLwczAaK",
        "outputId": "b72bf23a-549b-4979-f8f7-98ea3815a113"
      },
      "execution_count": null,
      "outputs": [
        {
          "output_type": "stream",
          "name": "stdout",
          "text": [
            "3/3 [==============================] - 3s 848ms/step - loss: 0.6921 - accuracy: 0.7708\n",
            "Test Accuracy: 0.7708\n"
          ]
        }
      ]
    },
    {
      "cell_type": "code",
      "source": [
        "plt.figure(figsize=(12, 4))\n",
        "\n",
        "# Plot training & validation accuracy values\n",
        "plt.subplot(1, 2, 1)\n",
        "plt.plot(history.history['accuracy'])\n",
        "plt.plot(history.history['val_accuracy'])\n",
        "plt.title('Model accuracy')\n",
        "plt.xlabel('Epoch')\n",
        "plt.ylabel('Accuracy')\n",
        "plt.legend(['Train', 'Validation'], loc='upper left')\n",
        "\n",
        "# Plot training & validation loss values\n",
        "plt.subplot(1, 2, 2)\n",
        "plt.plot(history.history['loss'])\n",
        "plt.plot(history.history['val_loss'])\n",
        "plt.title('Model loss')\n",
        "plt.xlabel('Epoch')\n",
        "plt.ylabel('Loss')\n",
        "plt.legend(['Train', 'Validation'], loc='upper left')\n",
        "\n",
        "plt.show()"
      ],
      "metadata": {
        "colab": {
          "base_uri": "https://localhost:8080/",
          "height": 410
        },
        "id": "bPnfHzj6zA-m",
        "outputId": "f9536303-1ca1-409e-b0dc-48892faa84ff"
      },
      "execution_count": null,
      "outputs": [
        {
          "output_type": "display_data",
          "data": {
            "text/plain": [
              "<Figure size 1200x400 with 2 Axes>"
            ],
            "image/png": "[encoded data removed]"
          },
          "metadata": {}
        }
      ]
    }
  ]
}